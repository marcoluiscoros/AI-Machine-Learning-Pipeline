{
 "cells": [
  {
   "cell_type": "code",
   "execution_count": 1,
   "id": "30599ad0-5db4-41e6-bc6f-afdebca68f92",
   "metadata": {},
   "outputs": [
    {
     "name": "stdout",
     "output_type": "stream",
     "text": [
      "   gender   age  hypertension  heart_disease smoking_history    bmi  \\\n",
      "0  Female  80.0             0              1           never  25.19   \n",
      "1  Female  54.0             0              0         No Info  27.32   \n",
      "2    Male  28.0             0              0           never  27.32   \n",
      "3  Female  36.0             0              0         current  23.45   \n",
      "4    Male  76.0             1              1         current  20.14   \n",
      "\n",
      "   HbA1c_level  blood_glucose_level  diabetes  \n",
      "0          6.6                  140         0  \n",
      "1          6.6                   80         0  \n",
      "2          5.7                  158         0  \n",
      "3          5.0                  155         0  \n",
      "4          4.8                  155         0  \n"
     ]
    }
   ],
   "source": [
    "import pandas as pd\n",
    "\n",
    "#reading data\n",
    "diabetes_data = pd.read_csv('diabetes_prediction_dataset.csv')\n",
    "\n",
    "# Displaying the first few rows of the dataframe to ensure it's loaded correctly\n",
    "print(diabetes_data.head())"
   ]
  },
  {
   "cell_type": "code",
   "execution_count": 2,
   "id": "f26daf20-b083-43bd-b131-6dffb6798bea",
   "metadata": {},
   "outputs": [],
   "source": [
    "#Removing smoking_history since some data have no information; best to dsiregard and add as limitations\n",
    "\n",
    "columns_to_delete = [\n",
    "    'smoking_history'\n",
    "]\n",
    "\n",
    "diabetes_data = diabetes_data.drop(columns = columns_to_delete)"
   ]
  },
  {
   "cell_type": "code",
   "execution_count": 3,
   "id": "e3b7cefc-df56-4241-8e33-ba45f81c8c9f",
   "metadata": {},
   "outputs": [
    {
     "name": "stdout",
     "output_type": "stream",
     "text": [
      "gender                 0\n",
      "age                    0\n",
      "hypertension           0\n",
      "heart_disease          0\n",
      "bmi                    0\n",
      "HbA1c_level            0\n",
      "blood_glucose_level    0\n",
      "diabetes               0\n",
      "dtype: int64\n"
     ]
    }
   ],
   "source": [
    "# Let's map the Gender Column into 1 for male and 0 for female\n",
    "gender_mapping = {'Male': 1, 'Female': 0}\n",
    "diabetes_data['gender'] = diabetes_data['gender'].map(gender_mapping)\n",
    "\n",
    "\n",
    "#All data fields must be filled out, thus remove nulls\n",
    "# Check for missing values\n",
    "\n",
    "diabetes_data = diabetes_data.dropna()\n",
    "print(diabetes_data.isnull().sum())\n"
   ]
  },
  {
   "cell_type": "code",
   "execution_count": 4,
   "id": "17f6a3f8-f5c1-43e7-bde9-b576340d3b28",
   "metadata": {},
   "outputs": [],
   "source": [
    "from sklearn.model_selection import train_test_split\n",
    "\n",
    "\n",
    "# Let's get the training set\n",
    "X = diabetes_data.drop(columns=['diabetes'])\n",
    "y = diabetes_data['diabetes']\n",
    "\n",
    "X_train, X_test, y_train, y_test = train_test_split(\n",
    "    X, y, test_size=0.2, random_state=0\n",
    ")"
   ]
  },
  {
   "cell_type": "code",
   "execution_count": 5,
   "id": "9a37449c-6826-498b-b926-5ca6d22b336b",
   "metadata": {},
   "outputs": [],
   "source": [
    "from sklearn.preprocessing import MinMaxScaler\n",
    "\n",
    "# FOR KNN We need to do scaling\n",
    "scalers = {}\n",
    "for col in X_train.columns:\n",
    "  scaler = MinMaxScaler()\n",
    "  X_train[col] = scaler.fit_transform(X_train[col].values.reshape(-1, 1))\n",
    "  scalers[col] = scaler\n",
    "\n",
    "# Apply Scaling into the Test Set\n",
    "for col in X_test.columns:\n",
    "  X_test[col] = scalers[col].transform(X_test[col].values.reshape(-1, 1))\n"
   ]
  },
  {
   "cell_type": "code",
   "execution_count": 7,
   "id": "c48b9770-73f8-42c9-8d63-a286f2954243",
   "metadata": {},
   "outputs": [
    {
     "name": "stdout",
     "output_type": "stream",
     "text": [
      "0.9531929789468421\n"
     ]
    }
   ],
   "source": [
    "from sklearn.tree import DecisionTreeClassifier\n",
    "from sklearn.metrics import accuracy_score\n",
    "model = DecisionTreeClassifier()\n",
    "\n",
    "# Train the model\n",
    "model.fit(X_train, y_train)\n",
    "\n",
    "# predictions\n",
    "y_pred = model.predict(X_test)\n",
    "\n",
    "# Eval\n",
    "acc = accuracy_score(y_test, y_pred)\n",
    "print(acc)"
   ]
  },
  {
   "cell_type": "code",
   "execution_count": 8,
   "id": "907fdbae-c450-4d91-858e-9f76802b7717",
   "metadata": {},
   "outputs": [],
   "source": [
    "import joblib\n",
    "import numpy as np"
   ]
  },
  {
   "cell_type": "code",
   "execution_count": 9,
   "id": "ee31d008-bda1-4d54-a919-203a37aa3066",
   "metadata": {},
   "outputs": [
    {
     "data": {
      "text/plain": [
       "['./../savedModels/diabetes_prediction_dt_model.joblib']"
      ]
     },
     "execution_count": 9,
     "metadata": {},
     "output_type": "execute_result"
    }
   ],
   "source": [
    "# Save the trained model\n",
    "joblib.dump(model, './../savedModels/diabetes_prediction_dt_model.joblib')\n",
    "\n"
   ]
  },
  {
   "cell_type": "code",
   "execution_count": null,
   "id": "3d1fe75c-db3d-4880-b364-8ee855ddb98c",
   "metadata": {},
   "outputs": [],
   "source": []
  }
 ],
 "metadata": {
  "kernelspec": {
   "display_name": "Python 3 (ipykernel)",
   "language": "python",
   "name": "python3"
  },
  "language_info": {
   "codemirror_mode": {
    "name": "ipython",
    "version": 3
   },
   "file_extension": ".py",
   "mimetype": "text/x-python",
   "name": "python",
   "nbconvert_exporter": "python",
   "pygments_lexer": "ipython3",
   "version": "3.11.7"
  }
 },
 "nbformat": 4,
 "nbformat_minor": 5
}
