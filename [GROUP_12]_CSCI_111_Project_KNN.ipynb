{
  "nbformat": 4,
  "nbformat_minor": 0,
  "metadata": {
    "colab": {
      "provenance": []
    },
    "kernelspec": {
      "name": "python3",
      "display_name": "Python 3"
    },
    "language_info": {
      "name": "python"
    }
  },
  "cells": [
    {
      "cell_type": "code",
      "source": [
        "import pandas as pd\n",
        "\n",
        "#reading data\n",
        "diabetes_data = pd.read_csv('/content/diabetes_prediction_dataset.csv')\n",
        "\n",
        "# Displaying the first few rows of the dataframe to ensure it's loaded correctly\n",
        "print(diabetes_data.head())"
      ],
      "metadata": {
        "id": "BdMDKapFtVqt",
        "colab": {
          "base_uri": "https://localhost:8080/"
        },
        "outputId": "b933cbda-34f2-4a03-a008-3a2551d6dade"
      },
      "execution_count": 1,
      "outputs": [
        {
          "output_type": "stream",
          "name": "stdout",
          "text": [
            "   gender   age  hypertension  heart_disease smoking_history    bmi  \\\n",
            "0  Female  80.0             0              1           never  25.19   \n",
            "1  Female  54.0             0              0         No Info  27.32   \n",
            "2    Male  28.0             0              0           never  27.32   \n",
            "3  Female  36.0             0              0         current  23.45   \n",
            "4    Male  76.0             1              1         current  20.14   \n",
            "\n",
            "   HbA1c_level  blood_glucose_level  diabetes  \n",
            "0          6.6                  140         0  \n",
            "1          6.6                   80         0  \n",
            "2          5.7                  158         0  \n",
            "3          5.0                  155         0  \n",
            "4          4.8                  155         0  \n"
          ]
        }
      ]
    },
    {
      "cell_type": "markdown",
      "source": [
        "# Data Cleaning and Feature Selection"
      ],
      "metadata": {
        "id": "65wlX1AQ2_rg"
      }
    },
    {
      "cell_type": "code",
      "source": [
        "#Removing smoking_history since some data have no information; best to dsiregard and add as limitations\n",
        "\n",
        "columns_to_delete = [\n",
        "    'smoking_history'\n",
        "]\n",
        "\n",
        "diabetes_data = diabetes_data.drop(columns = columns_to_delete)"
      ],
      "metadata": {
        "id": "3KGENs-31v1Y"
      },
      "execution_count": 2,
      "outputs": []
    },
    {
      "cell_type": "code",
      "source": [
        "# Mapping the Gender Column into 1 for male and 0 for female\n",
        "gender_mapping = {'Male': 1, 'Female': 0}\n",
        "diabetes_data['gender'] = diabetes_data['gender'].map(gender_mapping)\n",
        "\n",
        "\n",
        "#All data fields must be filled out, thus remove nulls\n",
        "# Check for missing values\n",
        "\n",
        "diabetes_data = diabetes_data.dropna()\n",
        "print(diabetes_data.isnull().sum())\n"
      ],
      "metadata": {
        "colab": {
          "base_uri": "https://localhost:8080/"
        },
        "id": "eL3N0R1ps5Rs",
        "outputId": "a221f5f7-9215-4a25-d98d-69081d9785ec"
      },
      "execution_count": 3,
      "outputs": [
        {
          "output_type": "stream",
          "name": "stdout",
          "text": [
            "gender                 0\n",
            "age                    0\n",
            "hypertension           0\n",
            "heart_disease          0\n",
            "bmi                    0\n",
            "HbA1c_level            0\n",
            "blood_glucose_level    0\n",
            "diabetes               0\n",
            "dtype: int64\n"
          ]
        }
      ]
    },
    {
      "cell_type": "markdown",
      "source": [
        "# Split the Data\n",
        "Split the data into training and testing sets.\n",
        "\n"
      ],
      "metadata": {
        "id": "X59uKcvP-K-A"
      }
    },
    {
      "cell_type": "code",
      "source": [
        "from sklearn.model_selection import train_test_split\n",
        "\n",
        "\n",
        "#Identify feature to be predicted & Split training and test set\n",
        "X = diabetes_data.drop(columns=['diabetes'])\n",
        "y = diabetes_data['diabetes']\n",
        "\n",
        "X_train, X_test, y_train, y_test = train_test_split(\n",
        "    X, y, test_size=0.2, random_state=0\n",
        ")"
      ],
      "metadata": {
        "id": "YZ1J00xf-aFf"
      },
      "execution_count": 4,
      "outputs": []
    },
    {
      "cell_type": "markdown",
      "source": [
        "# Data Preprocessing\n",
        "Encode categorical variables & scale/normalize numerical variables."
      ],
      "metadata": {
        "id": "LrmW7XBF5zot"
      }
    },
    {
      "cell_type": "markdown",
      "source": [],
      "metadata": {
        "id": "Rcqf6ssY-J8F"
      }
    },
    {
      "cell_type": "code",
      "source": [
        "from sklearn.preprocessing import MinMaxScaler\n",
        "\n",
        "# need to do scaling to all features\n",
        "scalers = {}\n",
        "for col in X_train.columns:\n",
        "  scaler = MinMaxScaler()\n",
        "  X_train[col] = scaler.fit_transform(X_train[col].values.reshape(-1, 1))\n",
        "  scalers[col] = scaler\n",
        "\n",
        "# Apply Scaling into the Test Set\n",
        "for col in X_test.columns:\n",
        "  X_test[col] = scalers[col].transform(X_test[col].values.reshape(-1, 1))\n"
      ],
      "metadata": {
        "id": "Pp59pTrhuzq2"
      },
      "execution_count": 5,
      "outputs": []
    },
    {
      "cell_type": "markdown",
      "source": [
        "# Select Model"
      ],
      "metadata": {
        "id": "lex1ZrzDCDWM"
      }
    },
    {
      "cell_type": "code",
      "source": [
        "from sklearn.neighbors import KNeighborsClassifier\n",
        "model = KNeighborsClassifier(n_neighbors=5)\n",
        "\n",
        "# Train the model\n",
        "model.fit(X_train, y_train)"
      ],
      "metadata": {
        "colab": {
          "base_uri": "https://localhost:8080/",
          "height": 74
        },
        "id": "W5l9VdITB7C_",
        "outputId": "9e60efd4-8a9c-45e1-9f87-dac37a3fcd7a"
      },
      "execution_count": 6,
      "outputs": [
        {
          "output_type": "execute_result",
          "data": {
            "text/plain": [
              "KNeighborsClassifier()"
            ],
            "text/html": [
              "<style>#sk-container-id-1 {color: black;background-color: white;}#sk-container-id-1 pre{padding: 0;}#sk-container-id-1 div.sk-toggleable {background-color: white;}#sk-container-id-1 label.sk-toggleable__label {cursor: pointer;display: block;width: 100%;margin-bottom: 0;padding: 0.3em;box-sizing: border-box;text-align: center;}#sk-container-id-1 label.sk-toggleable__label-arrow:before {content: \"▸\";float: left;margin-right: 0.25em;color: #696969;}#sk-container-id-1 label.sk-toggleable__label-arrow:hover:before {color: black;}#sk-container-id-1 div.sk-estimator:hover label.sk-toggleable__label-arrow:before {color: black;}#sk-container-id-1 div.sk-toggleable__content {max-height: 0;max-width: 0;overflow: hidden;text-align: left;background-color: #f0f8ff;}#sk-container-id-1 div.sk-toggleable__content pre {margin: 0.2em;color: black;border-radius: 0.25em;background-color: #f0f8ff;}#sk-container-id-1 input.sk-toggleable__control:checked~div.sk-toggleable__content {max-height: 200px;max-width: 100%;overflow: auto;}#sk-container-id-1 input.sk-toggleable__control:checked~label.sk-toggleable__label-arrow:before {content: \"▾\";}#sk-container-id-1 div.sk-estimator input.sk-toggleable__control:checked~label.sk-toggleable__label {background-color: #d4ebff;}#sk-container-id-1 div.sk-label input.sk-toggleable__control:checked~label.sk-toggleable__label {background-color: #d4ebff;}#sk-container-id-1 input.sk-hidden--visually {border: 0;clip: rect(1px 1px 1px 1px);clip: rect(1px, 1px, 1px, 1px);height: 1px;margin: -1px;overflow: hidden;padding: 0;position: absolute;width: 1px;}#sk-container-id-1 div.sk-estimator {font-family: monospace;background-color: #f0f8ff;border: 1px dotted black;border-radius: 0.25em;box-sizing: border-box;margin-bottom: 0.5em;}#sk-container-id-1 div.sk-estimator:hover {background-color: #d4ebff;}#sk-container-id-1 div.sk-parallel-item::after {content: \"\";width: 100%;border-bottom: 1px solid gray;flex-grow: 1;}#sk-container-id-1 div.sk-label:hover label.sk-toggleable__label {background-color: #d4ebff;}#sk-container-id-1 div.sk-serial::before {content: \"\";position: absolute;border-left: 1px solid gray;box-sizing: border-box;top: 0;bottom: 0;left: 50%;z-index: 0;}#sk-container-id-1 div.sk-serial {display: flex;flex-direction: column;align-items: center;background-color: white;padding-right: 0.2em;padding-left: 0.2em;position: relative;}#sk-container-id-1 div.sk-item {position: relative;z-index: 1;}#sk-container-id-1 div.sk-parallel {display: flex;align-items: stretch;justify-content: center;background-color: white;position: relative;}#sk-container-id-1 div.sk-item::before, #sk-container-id-1 div.sk-parallel-item::before {content: \"\";position: absolute;border-left: 1px solid gray;box-sizing: border-box;top: 0;bottom: 0;left: 50%;z-index: -1;}#sk-container-id-1 div.sk-parallel-item {display: flex;flex-direction: column;z-index: 1;position: relative;background-color: white;}#sk-container-id-1 div.sk-parallel-item:first-child::after {align-self: flex-end;width: 50%;}#sk-container-id-1 div.sk-parallel-item:last-child::after {align-self: flex-start;width: 50%;}#sk-container-id-1 div.sk-parallel-item:only-child::after {width: 0;}#sk-container-id-1 div.sk-dashed-wrapped {border: 1px dashed gray;margin: 0 0.4em 0.5em 0.4em;box-sizing: border-box;padding-bottom: 0.4em;background-color: white;}#sk-container-id-1 div.sk-label label {font-family: monospace;font-weight: bold;display: inline-block;line-height: 1.2em;}#sk-container-id-1 div.sk-label-container {text-align: center;}#sk-container-id-1 div.sk-container {/* jupyter's `normalize.less` sets `[hidden] { display: none; }` but bootstrap.min.css set `[hidden] { display: none !important; }` so we also need the `!important` here to be able to override the default hidden behavior on the sphinx rendered scikit-learn.org. See: https://github.com/scikit-learn/scikit-learn/issues/21755 */display: inline-block !important;position: relative;}#sk-container-id-1 div.sk-text-repr-fallback {display: none;}</style><div id=\"sk-container-id-1\" class=\"sk-top-container\"><div class=\"sk-text-repr-fallback\"><pre>KNeighborsClassifier()</pre><b>In a Jupyter environment, please rerun this cell to show the HTML representation or trust the notebook. <br />On GitHub, the HTML representation is unable to render, please try loading this page with nbviewer.org.</b></div><div class=\"sk-container\" hidden><div class=\"sk-item\"><div class=\"sk-estimator sk-toggleable\"><input class=\"sk-toggleable__control sk-hidden--visually\" id=\"sk-estimator-id-1\" type=\"checkbox\" checked><label for=\"sk-estimator-id-1\" class=\"sk-toggleable__label sk-toggleable__label-arrow\">KNeighborsClassifier</label><div class=\"sk-toggleable__content\"><pre>KNeighborsClassifier()</pre></div></div></div></div></div>"
            ]
          },
          "metadata": {},
          "execution_count": 6
        }
      ]
    },
    {
      "cell_type": "markdown",
      "source": [
        "# Evaluation of Model"
      ],
      "metadata": {
        "id": "R0vVIhySDLhN"
      }
    },
    {
      "cell_type": "code",
      "source": [
        "from sklearn.metrics import accuracy_score, confusion_matrix, classification_report\n",
        "\n",
        "y_pred = model.predict(X_test)\n",
        "acc = accuracy_score(y_test, y_pred)\n",
        "print('KNN Accuracy: {0}'.format(acc))\n",
        "#print(\"Confusion Matrix:\\n\", confusion_matrix(y_test, y_pred))\n",
        "#print(\"Classification Report:\\n\", classification_report(y_test, y_pred))"
      ],
      "metadata": {
        "colab": {
          "base_uri": "https://localhost:8080/"
        },
        "id": "dAVzsbl4C_cP",
        "outputId": "cc0fa8d5-32aa-44da-8e87-f2e61c4cf2c4"
      },
      "execution_count": 7,
      "outputs": [
        {
          "output_type": "stream",
          "name": "stdout",
          "text": [
            "KNN Accuracy: 0.9668950342551382\n"
          ]
        }
      ]
    },
    {
      "cell_type": "markdown",
      "source": [
        "# Predictor/Model Deployment\n"
      ],
      "metadata": {
        "id": "fDpW-8oiKgdm"
      }
    },
    {
      "cell_type": "code",
      "source": [
        "import joblib\n",
        "import numpy as np"
      ],
      "metadata": {
        "id": "mplMVUTdYZBs"
      },
      "execution_count": 8,
      "outputs": []
    },
    {
      "cell_type": "code",
      "source": [
        "# Save the trained model\n",
        "joblib.dump(model, 'diabetes_prediction_model.joblib')\n",
        "\n",
        "# Save scalers used for numerical features\n",
        "scalers_in_order = [scalers[col] for col in X.columns]\n",
        "joblib.dump(scalers_in_order, 'diabetes_prediction_model_scalers.joblib')\n",
        "\n",
        "# Save mappings or encoders used for categorical variables (if any)\n",
        "mappings = {'gender': gender_mapping, 'Label': {0: 'No diabetes', 1: 'Diabetes'}}\n",
        "joblib.dump(mappings, 'diabetes_prediction_model_mappings.joblib')"
      ],
      "metadata": {
        "colab": {
          "base_uri": "https://localhost:8080/"
        },
        "id": "YyoHzrGadCgD",
        "outputId": "abc9c600-aebd-4f26-afd5-85230805bf3f"
      },
      "execution_count": 9,
      "outputs": [
        {
          "output_type": "execute_result",
          "data": {
            "text/plain": [
              "['diabetes_prediction_model_mappings.joblib']"
            ]
          },
          "metadata": {},
          "execution_count": 9
        }
      ]
    },
    {
      "cell_type": "code",
      "source": [
        "# Load the saved model and preprocessing objects\n",
        "new_model = joblib.load('diabetes_prediction_model.joblib')\n",
        "new_model_scalers = joblib.load('diabetes_prediction_model_scalers.joblib')\n",
        "new_model_mappings = joblib.load('diabetes_prediction_model_mappings.joblib')\n"
      ],
      "metadata": {
        "id": "yPhF_Iu8dTXm"
      },
      "execution_count": 10,
      "outputs": []
    },
    {
      "cell_type": "code",
      "source": [
        "\n",
        "# Simple prediction model function\n",
        "def predict_diabetes(datapoint:list):\n",
        "  datapoint_numpy = np.array(datapoint)\n",
        "\n",
        "  # Perform Scaling for numerical features, starting from index 1\n",
        "  for i, scaler in enumerate(new_model_scalers):\n",
        "    if i == 0:\n",
        "      datapoint_numpy[i] = new_model_mappings['gender'][datapoint_numpy[i]]\n",
        "\n",
        "    datapoint_numpy[i] = scaler.transform(np.array([datapoint_numpy[i]]).reshape(-1, 1))[0, 0]\n",
        "  # Return Predicted Model\n",
        "  return new_model.predict(datapoint_numpy.astype(np.float64).reshape(1, -1))\n",
        "\n",
        "\n",
        "  # Example of integrating user input with prediction\n",
        "gender = input('Gender (Male/Female): ')\n",
        "age = int(input('Age: '))\n",
        "hypertension = int(input('Hypertension (0 for No, 1 for Yes): '))\n",
        "heart_disease = int(input('Heart Disease (0 for No, 1 for Yes): '))\n",
        "bmi = float(input('BMI: '))\n",
        "HbA1c_level = float(input('HbA1c level: '))\n",
        "blood_glucose_level = float(input('Blood glucose level: '))\n",
        "\n",
        "\n",
        "\n",
        "\n",
        "prediction = new_model_mappings['Label'][predict_diabetes([gender, age, hypertension, heart_disease, bmi, HbA1c_level, blood_glucose_level])[0]]\n",
        "print('Prediction: ', prediction)\n"
      ],
      "metadata": {
        "colab": {
          "base_uri": "https://localhost:8080/"
        },
        "id": "UKPY6NLBtou3",
        "outputId": "18724505-922a-47fa-a631-fdf1c9f8727b"
      },
      "execution_count": 13,
      "outputs": [
        {
          "output_type": "stream",
          "name": "stdout",
          "text": [
            "Gender (Male/Female): Male\n",
            "Age: 80\n",
            "Hypertension (0 for No, 1 for Yes): 1\n",
            "Heart Disease (0 for No, 1 for Yes): 1\n",
            "BMI: 21\n",
            "HbA1c level: 8\n",
            "Blood glucose level: 160\n",
            "Prediction:  Diabetes\n"
          ]
        },
        {
          "output_type": "stream",
          "name": "stderr",
          "text": [
            "/usr/local/lib/python3.10/dist-packages/sklearn/base.py:439: UserWarning: X does not have valid feature names, but KNeighborsClassifier was fitted with feature names\n",
            "  warnings.warn(\n"
          ]
        }
      ]
    },
    {
      "cell_type": "code",
      "source": [
        "1"
      ],
      "metadata": {
        "id": "KTFwDQAqyNX_"
      },
      "execution_count": null,
      "outputs": []
    }
  ]
}